{
 "cells": [
  {
   "cell_type": "markdown",
   "metadata": {},
   "source": [
    "# Data Science 2 - ESEO DSMT \n",
    "## XGBoost and LightGBM\n",
    "### 15 Nov 2021  -- Prof. R. LONGO\n",
    "\n",
    "1. Basics\n",
    "2. Advanced\n",
    "3. Tuning"
   ]
  },
  {
   "cell_type": "code",
   "execution_count": 1,
   "metadata": {},
   "outputs": [],
   "source": [
    "import pandas as pd\n",
    "import matplotlib.pyplot as plt\n",
    "from sklearn.model_selection import train_test_split\n",
    "import numpy as np\n",
    "from sklearn.metrics import confusion_matrix,classification_report\n",
    "\n",
    "import warnings\n",
    "warnings.filterwarnings('ignore')"
   ]
  },
  {
   "cell_type": "markdown",
   "metadata": {},
   "source": [
    "##  1. Basics"
   ]
  },
  {
   "cell_type": "code",
   "execution_count": 2,
   "metadata": {},
   "outputs": [],
   "source": [
    "from numpy import loadtxt\n",
    "from sklearn.model_selection import train_test_split"
   ]
  },
  {
   "cell_type": "code",
   "execution_count": 3,
   "metadata": {},
   "outputs": [
    {
     "name": "stdout",
     "output_type": "stream",
     "text": [
      "<class 'numpy.ndarray'>\n"
     ]
    }
   ],
   "source": [
    "# load data pima-indians-diabetes\n",
    "dataset = loadtxt('data.txt', delimiter=\",\")\n",
    "print(type(dataset))\n"
   ]
  },
  {
   "cell_type": "code",
   "execution_count": 4,
   "metadata": {},
   "outputs": [
    {
     "name": "stdout",
     "output_type": "stream",
     "text": [
      "(768, 9)\n"
     ]
    }
   ],
   "source": [
    "print(dataset.shape)"
   ]
  },
  {
   "cell_type": "code",
   "execution_count": 16,
   "metadata": {},
   "outputs": [
    {
     "name": "stdout",
     "output_type": "stream",
     "text": [
      "(768, 8) (768, 1)\n"
     ]
    }
   ],
   "source": [
    "#formation X,y \n",
    "y = dataset[:,-1]\n",
    "X = dataset[:,:-1]\n",
    "y = y.reshape((dataset.shape[0],1))\n",
    "print(X.shape,y.shape)\n"
   ]
  },
  {
   "cell_type": "code",
   "execution_count": 30,
   "metadata": {},
   "outputs": [],
   "source": [
    "val, occu=np.unique(y,return_counts=True) #voir ce qu'il y a dans y et compter chaque valeur"
   ]
  },
  {
   "cell_type": "code",
   "execution_count": 39,
   "metadata": {},
   "outputs": [
    {
     "name": "stdout",
     "output_type": "stream",
     "text": [
      "0.6510416666666666\n",
      "/!\\ unbalanced classes\n"
     ]
    }
   ],
   "source": [
    "print(occu[0]/(occu[0]+occu[1]))\n",
    "print(\"/!\\ unbalanced classes\")"
   ]
  },
  {
   "cell_type": "code",
   "execution_count": 41,
   "metadata": {},
   "outputs": [],
   "source": [
    "#Train/Test split\n",
    "seed = 10\n",
    "X_train, X_test,y_train,y_test = train_test_split(X,y,test_size=0.2, random_state=seed)"
   ]
  },
  {
   "cell_type": "code",
   "execution_count": 50,
   "metadata": {},
   "outputs": [
    {
     "name": "stdout",
     "output_type": "stream",
     "text": [
      "0.6596091205211726\n",
      "0.6168831168831169\n"
     ]
    }
   ],
   "source": [
    "print(np.unique(y_train,return_counts=True)[1][0]/len(y_train))\n",
    "print(np.unique(y_test,return_counts=True)[1][0]/len(y_test))\n",
    "#Pourcentage proche mais différent alors qu'il faut garder ce pourcentage. "
   ]
  },
  {
   "cell_type": "code",
   "execution_count": 53,
   "metadata": {},
   "outputs": [
    {
     "name": "stdout",
     "output_type": "stream",
     "text": [
      "0.6514657980456026\n",
      "0.6493506493506493\n"
     ]
    }
   ],
   "source": [
    "#On utilise le param stratify pour garder l'équilibre dans les données\n",
    "X_train, X_test,y_train,y_test = train_test_split(X,y,test_size=0.2, random_state=seed,stratify=y)\n",
    "print(np.unique(y_train,return_counts=True)[1][0]/len(y_train))\n",
    "print(np.unique(y_test,return_counts=True)[1][0]/len(y_test))"
   ]
  },
  {
   "cell_type": "markdown",
   "metadata": {},
   "source": [
    "### XGBoost"
   ]
  },
  {
   "cell_type": "code",
   "execution_count": 84,
   "metadata": {},
   "outputs": [
    {
     "name": "stdout",
     "output_type": "stream",
     "text": [
      "[15:16:00] WARNING: C:/Users/Administrator/workspace/xgboost-win64_release_1.5.0/src/learner.cc:1115: Starting in XGBoost 1.3.0, the default evaluation metric used with the objective 'binary:logistic' was changed from 'error' to 'logloss'. Explicitly set eval_metric if you'd like to restore the old behavior.\n"
     ]
    },
    {
     "data": {
      "text/plain": [
       "0.7402597402597403"
      ]
     },
     "execution_count": 84,
     "metadata": {},
     "output_type": "execute_result"
    }
   ],
   "source": [
    "import xgboost as xgb\n",
    "model = xgb.XGBClassifier(random_state=seed);\n",
    "model.fit(X_train,y_train)\n",
    "model.score(X_test,y_test)# technique pas terrible car les classes ne sont pas balancées"
   ]
  },
  {
   "cell_type": "code",
   "execution_count": 63,
   "metadata": {},
   "outputs": [],
   "source": [
    "y_predict = model.predict(X_test)"
   ]
  },
  {
   "cell_type": "code",
   "execution_count": 64,
   "metadata": {},
   "outputs": [
    {
     "data": {
      "text/plain": [
       "array([[77, 23],\n",
       "       [17, 37]], dtype=int64)"
      ]
     },
     "execution_count": 64,
     "metadata": {},
     "output_type": "execute_result"
    }
   ],
   "source": [
    "confusion_matrix(y_test,y_predict)"
   ]
  },
  {
   "cell_type": "code",
   "execution_count": 75,
   "metadata": {},
   "outputs": [
    {
     "name": "stdout",
     "output_type": "stream",
     "text": [
      "              precision    recall  f1-score   support\n",
      "\n",
      "         0.0       0.82      0.77      0.79       100\n",
      "         1.0       0.62      0.69      0.65        54\n",
      "\n",
      "    accuracy                           0.74       154\n",
      "   macro avg       0.72      0.73      0.72       154\n",
      "weighted avg       0.75      0.74      0.74       154\n",
      "\n"
     ]
    }
   ],
   "source": [
    "# On veut augmenter les valeurs sur la diagonales et réduire à l'extérieur\n",
    "print(classification_report(y_test,y_predict))"
   ]
  },
  {
   "cell_type": "markdown",
   "metadata": {},
   "source": [
    "#### For Classification Report \n",
    "Accuracy: The accuracy returns the proportion of correct predictions.\n",
    "\\\n",
    "Accuracy = (TP + TN)/(TP + TN + FP + FN) \n",
    "\\\n",
    "\\\n",
    "Precision: The precision returns the proportion of true positives among all the values predicted as positive.\n",
    "\\\n",
    "Precision = TP/(TP + FP) \n",
    "\\\n",
    "Negative Predictive Value = = TN/(TN + FN) \n",
    "\\\n",
    "\\\n",
    "Recall (sensitivity): The recall returns the proportion of positive values correctly predicted.\n",
    "\\\n",
    "Recall = TP/(TP + FN)\n",
    "\\\n",
    "Specificity: The specificity returns the proportion of negative values correctly predicted.\n",
    "\\\n",
    "Specificity: TN/ (TN + FP) \n",
    "\\\n",
    "\\\n",
    "F1-score: The f1-score is the harmonic mean of precision and recall. It is often used to compare classifiers.\n",
    "\\\n",
    "F1-score = (2 x Precision x Recall)/(Precision + Recall) "
   ]
  },
  {
   "cell_type": "code",
   "execution_count": 82,
   "metadata": {},
   "outputs": [
    {
     "name": "stdout",
     "output_type": "stream",
     "text": [
      "Accuracy: 0.7247752511898466\n",
      "std: 0.06449168269666085\n"
     ]
    }
   ],
   "source": [
    "from sklearn.model_selection import KFold, cross_val_score,StratifiedKFold\n",
    "cv = 10\n",
    "kfold = StratifiedKFold(n_splits=cv,random_state=seed)\n",
    "results=cross_val_score(model,X_train,y_train,cv = kfold,n_jobs=-1)#n_jobs donne tous les cores de notre processeur\n",
    "print(\"Accuracy:\",results.mean())\n",
    "print(\"std:\",results.std())"
   ]
  },
  {
   "cell_type": "markdown",
   "metadata": {},
   "source": [
    "## 2. Advanced\n"
   ]
  },
  {
   "cell_type": "markdown",
   "metadata": {},
   "source": [
    "#### 2.1 Feature Selection Using Feature Importance"
   ]
  },
  {
   "cell_type": "code",
   "execution_count": 104,
   "metadata": {},
   "outputs": [
    {
     "name": "stdout",
     "output_type": "stream",
     "text": [
      "[15:33:33] WARNING: C:/Users/Administrator/workspace/xgboost-win64_release_1.5.0/src/learner.cc:576: \n",
      "Parameters: { \"random_seed\" } might not be used.\n",
      "\n",
      "  This could be a false alarm, with some parameters getting used by language bindings but\n",
      "  then being mistakenly passed down to XGBoost core, or some parameter actually being used\n",
      "  but getting flagged wrongly here. Please open an issue if you find any such cases.\n",
      "\n",
      "\n",
      "[0.06784084 0.17221135 0.10045662 0.07436399 0.06784084 0.17482062\n",
      " 0.19960861 0.14285715]\n"
     ]
    },
    {
     "data": {
      "image/png": "[encoded data removed]",
      "text/plain": [
       "<Figure size 432x288 with 1 Axes>"
      ]
     },
     "metadata": {
      "needs_background": "light"
     },
     "output_type": "display_data"
    }
   ],
   "source": [
    "#feature_importances_\n",
    "model = xgb.XGBClassifier(importance_type='weight',random_seed=seed)\n",
    "model.fit(X_train,y_train,eval_metric='logloss')\n",
    "model.score(X_test,y_test)\n",
    "print(model.feature_importances_)\n",
    "plt.bar(range(len(model.feature_importances_)),model.feature_importances_);"
   ]
  },
  {
   "cell_type": "code",
   "execution_count": 105,
   "metadata": {},
   "outputs": [
    {
     "data": {
      "text/plain": [
       "<AxesSubplot:title={'center':'Feature importance'}, xlabel='F score', ylabel='Features'>"
      ]
     },
     "execution_count": 105,
     "metadata": {},
     "output_type": "execute_result"
    },
    {
     "data": {
      "image/png": "[encoded data removed]",
      "text/plain": [
       "<Figure size 432x288 with 1 Axes>"
      ]
     },
     "metadata": {
      "needs_background": "light"
     },
     "output_type": "display_data"
    }
   ],
   "source": [
    "#Using the Built-in XGBoost Feature Importance PLOT\n",
    "from xgboost import plot_importance\n",
    "plot_importance(model,importance_type='weight')"
   ]
  },
  {
   "cell_type": "code",
   "execution_count": 107,
   "metadata": {},
   "outputs": [
    {
     "data": {
      "image/png": "[encoded data removed]",
      "text/plain": [
       "<Figure size 432x288 with 1 Axes>"
      ]
     },
     "metadata": {
      "needs_background": "light"
     },
     "output_type": "display_data"
    }
   ],
   "source": [
    "thresholds = np.sort(model.feature_importances_)\n",
    "plt.bar(range(len(thresholds)),thresholds);"
   ]
  },
  {
   "cell_type": "code",
   "execution_count": 119,
   "metadata": {},
   "outputs": [
    {
     "name": "stdout",
     "output_type": "stream",
     "text": [
      "Thresholds: 0.06784084\n",
      "nFeature: 8\n",
      "accuracy: 0.7402597402597403 \n",
      "\n",
      "Thresholds: 0.06784084\n",
      "nFeature: 8\n",
      "accuracy: 0.7402597402597403 \n",
      "\n",
      "Thresholds: 0.07436399\n",
      "nFeature: 6\n",
      "accuracy: 0.7337662337662337 \n",
      "\n",
      "Thresholds: 0.10045662\n",
      "nFeature: 5\n",
      "accuracy: 0.7012987012987013 \n",
      "\n",
      "Thresholds: 0.14285715\n",
      "nFeature: 4\n",
      "accuracy: 0.7402597402597403 \n",
      "\n",
      "Thresholds: 0.17221135\n",
      "nFeature: 3\n",
      "accuracy: 0.7337662337662337 \n",
      "\n",
      "Thresholds: 0.17482062\n",
      "nFeature: 2\n",
      "accuracy: 0.5909090909090909 \n",
      "\n",
      "Thresholds: 0.19960861\n",
      "nFeature: 1\n",
      "accuracy: 0.5194805194805194 \n",
      "\n"
     ]
    }
   ],
   "source": [
    "from sklearn.feature_selection import SelectFromModel\n",
    "for threshold in thresholds:\n",
    "    selection = SelectFromModel(model,threshold=threshold,prefit=True) #feature selection\n",
    "    #Transform X_train\n",
    "    select_X_train = selection.transform(X_train)\n",
    "    \n",
    "    #train X_train\n",
    "    selection_model = xgb.XGBClassifier(random_state=seed)\n",
    "    selection_model.fit(select_X_train,y_train,eval_metric='logloss')\n",
    "    \n",
    "    #Evaluation Test\n",
    "    select_X_test = selection.transform(X_test)\n",
    "    accuracy = selection_model.score(select_X_test,y_test)\n",
    "    print(\"Thresholds:\",threshold)\n",
    "    print(\"nFeature:\",select_X_train.shape[1])\n",
    "    print(\"accuracy:\",accuracy, \"\\n\")\n",
    "    "
   ]
  },
  {
   "cell_type": "markdown",
   "metadata": {},
   "source": [
    "#### 2.2 Monitor Training Performance and Early Stopping\n",
    "XGBoost supports a suite of evaluation metrics (not limited to):\n",
    "\\\n",
    " rmse for root mean squared error. (Regression and not Classification)\n",
    "\\\n",
    " mae for mean absolute error. (Regression and not Classification)\n",
    "\\\n",
    " logloss for binary logarithmic loss and mlogloss for multiclass log loss (cross entropy).\n",
    "\\\n",
    " error for classification error.\n",
    "\\\n",
    " auc for area under ROC curve (for UNBALANCED CLASSES)\n",
    "\\\n",
    " aucpr calculates the area under the Precision Recall curve (for UNBALANCED CLASSES)"
   ]
  },
  {
   "cell_type": "code",
   "execution_count": 129,
   "metadata": {},
   "outputs": [
    {
     "name": "stdout",
     "output_type": "stream",
     "text": [
      "[0]\tvalidation_0-auc:0.81759\n",
      "[1]\tvalidation_0-auc:0.80278\n",
      "[2]\tvalidation_0-auc:0.80796\n",
      "[3]\tvalidation_0-auc:0.80732\n",
      "[4]\tvalidation_0-auc:0.80963\n",
      "[5]\tvalidation_0-auc:0.80972\n",
      "[6]\tvalidation_0-auc:0.81787\n",
      "[7]\tvalidation_0-auc:0.82380\n",
      "[8]\tvalidation_0-auc:0.82954\n",
      "[9]\tvalidation_0-auc:0.83139\n",
      "[10]\tvalidation_0-auc:0.83000\n",
      "[11]\tvalidation_0-auc:0.83056\n",
      "[12]\tvalidation_0-auc:0.82065\n",
      "[13]\tvalidation_0-auc:0.82120\n",
      "[14]\tvalidation_0-auc:0.81778\n",
      "[15]\tvalidation_0-auc:0.81667\n",
      "[16]\tvalidation_0-auc:0.81593\n",
      "[17]\tvalidation_0-auc:0.81463\n",
      "[18]\tvalidation_0-auc:0.81778\n",
      "[19]\tvalidation_0-auc:0.82204\n",
      "[20]\tvalidation_0-auc:0.81870\n",
      "[21]\tvalidation_0-auc:0.81889\n",
      "[22]\tvalidation_0-auc:0.81778\n",
      "[23]\tvalidation_0-auc:0.81852\n",
      "[24]\tvalidation_0-auc:0.81519\n",
      "[25]\tvalidation_0-auc:0.81611\n",
      "[26]\tvalidation_0-auc:0.81667\n",
      "[27]\tvalidation_0-auc:0.81148\n",
      "[28]\tvalidation_0-auc:0.81074\n",
      "[29]\tvalidation_0-auc:0.81037\n",
      "[30]\tvalidation_0-auc:0.80481\n",
      "[31]\tvalidation_0-auc:0.80111\n",
      "[32]\tvalidation_0-auc:0.79741\n",
      "[33]\tvalidation_0-auc:0.79704\n",
      "[34]\tvalidation_0-auc:0.79407\n",
      "[35]\tvalidation_0-auc:0.79556\n",
      "[36]\tvalidation_0-auc:0.79519\n",
      "[37]\tvalidation_0-auc:0.79389\n",
      "[38]\tvalidation_0-auc:0.79185\n",
      "[39]\tvalidation_0-auc:0.79148\n",
      "[40]\tvalidation_0-auc:0.78704\n",
      "[41]\tvalidation_0-auc:0.78630\n",
      "[42]\tvalidation_0-auc:0.79130\n",
      "[43]\tvalidation_0-auc:0.79019\n",
      "[44]\tvalidation_0-auc:0.79130\n",
      "[45]\tvalidation_0-auc:0.79093\n",
      "[46]\tvalidation_0-auc:0.79037\n",
      "[47]\tvalidation_0-auc:0.79130\n",
      "[48]\tvalidation_0-auc:0.79167\n",
      "[49]\tvalidation_0-auc:0.79426\n",
      "0.7467532467532467\n"
     ]
    }
   ],
   "source": [
    "# Monitor Training Performance\n",
    "\n",
    "model = xgb.XGBClassifier(n_estimators=50,random_state=seed)\n",
    "eval_set = [(X_test,y_test)]\n",
    "model.fit(X_train,y_train,eval_metric=\"auc\",eval_set=eval_set,verbose=True)\n",
    "\n",
    "print(model.score(X_test,y_test))"
   ]
  },
  {
   "cell_type": "code",
   "execution_count": 153,
   "metadata": {},
   "outputs": [
    {
     "name": "stdout",
     "output_type": "stream",
     "text": [
      "[0]\tvalidation_0-auc:0.81759\n",
      "[1]\tvalidation_0-auc:0.80278\n",
      "[2]\tvalidation_0-auc:0.80796\n",
      "[3]\tvalidation_0-auc:0.80732\n",
      "[4]\tvalidation_0-auc:0.80963\n",
      "[5]\tvalidation_0-auc:0.80972\n",
      "[6]\tvalidation_0-auc:0.81787\n",
      "[7]\tvalidation_0-auc:0.82380\n",
      "[8]\tvalidation_0-auc:0.82954\n",
      "[9]\tvalidation_0-auc:0.83139\n",
      "[10]\tvalidation_0-auc:0.83000\n",
      "[11]\tvalidation_0-auc:0.83056\n",
      "[12]\tvalidation_0-auc:0.82065\n",
      "[13]\tvalidation_0-auc:0.82120\n",
      "[14]\tvalidation_0-auc:0.81778\n",
      "[15]\tvalidation_0-auc:0.81667\n",
      "[16]\tvalidation_0-auc:0.81593\n",
      "[17]\tvalidation_0-auc:0.81463\n",
      "[18]\tvalidation_0-auc:0.81778\n",
      "[19]\tvalidation_0-auc:0.82204\n",
      "[20]\tvalidation_0-auc:0.81870\n",
      "[21]\tvalidation_0-auc:0.81889\n",
      "[22]\tvalidation_0-auc:0.81778\n",
      "[23]\tvalidation_0-auc:0.81852\n",
      "[24]\tvalidation_0-auc:0.81519\n",
      "[25]\tvalidation_0-auc:0.81611\n",
      "[26]\tvalidation_0-auc:0.81667\n",
      "[27]\tvalidation_0-auc:0.81148\n",
      "[28]\tvalidation_0-auc:0.81074\n",
      "[29]\tvalidation_0-auc:0.81037\n",
      "0.7792207792207793\n"
     ]
    }
   ],
   "source": [
    "# Early Stopping\n",
    "\n",
    "model = xgb.XGBClassifier(n_estimators=50,random_state=seed)\n",
    "eval_set = [(X_test,y_test)]\n",
    "model.fit(X_train,y_train,eval_metric=\"auc\",early_stopping_rounds=20,eval_set=eval_set,verbose=True)\n",
    "#Trouve le meilleur et si les 20 suivants ne sont pas meilleurs alors il s'arrête (early stopping)\n",
    "\n",
    "print(model.score(X_test,y_test))\n"
   ]
  },
  {
   "cell_type": "code",
   "execution_count": 219,
   "metadata": {},
   "outputs": [
    {
     "ename": "AttributeError",
     "evalue": "'LGBMClassifier' object has no attribute 'best_score'",
     "output_type": "error",
     "traceback": [
      "\u001b[1;31m---------------------------------------------------------------------------\u001b[0m",
      "\u001b[1;31mAttributeError\u001b[0m                            Traceback (most recent call last)",
      "\u001b[1;32m<ipython-input-219-528f17c4ad26>\u001b[0m in \u001b[0;36m<module>\u001b[1;34m\u001b[0m\n\u001b[1;32m----> 1\u001b[1;33m \u001b[0mprint\u001b[0m\u001b[1;33m(\u001b[0m\u001b[0mmodel\u001b[0m\u001b[1;33m.\u001b[0m\u001b[0mbest_score\u001b[0m\u001b[1;33m)\u001b[0m\u001b[1;33m\u001b[0m\u001b[1;33m\u001b[0m\u001b[0m\n\u001b[0m\u001b[0;32m      2\u001b[0m \u001b[0mprint\u001b[0m\u001b[1;33m(\u001b[0m\u001b[0mmodel\u001b[0m\u001b[1;33m.\u001b[0m\u001b[0mbest_iteration\u001b[0m\u001b[1;33m)\u001b[0m\u001b[1;33m\u001b[0m\u001b[1;33m\u001b[0m\u001b[0m\n\u001b[0;32m      3\u001b[0m \u001b[0mprint\u001b[0m\u001b[1;33m(\u001b[0m\u001b[0mmodel\u001b[0m\u001b[1;33m.\u001b[0m\u001b[0mbest_ntree_limit\u001b[0m\u001b[1;33m)\u001b[0m\u001b[1;33m\u001b[0m\u001b[1;33m\u001b[0m\u001b[0m\n",
      "\u001b[1;31mAttributeError\u001b[0m: 'LGBMClassifier' object has no attribute 'best_score'"
     ]
    }
   ],
   "source": [
    "print(model.best_score)\n",
    "print(model.best_iteration)\n",
    "print(model.best_ntree_limit)"
   ]
  },
  {
   "cell_type": "markdown",
   "metadata": {},
   "source": [
    "\n",
    "## 3.  Tuning\n"
   ]
  },
  {
   "cell_type": "markdown",
   "metadata": {},
   "source": [
    "### Table of common parameters used for XGBoost and some suggestions for tuning:\n",
    "- Number of Trees (n estimators): set to a fixed value between 100 and 1000, depending on the dataset size.\n",
    "\n",
    "- Learning Rate (or eta); simplified to the ratio: [2 to 10]/ Ntrees , depending on the\n",
    "number of trees.\n",
    "- Row Sampling (subsample): grid searched values in the range [0.5, 0.75, 1.0].\n",
    "- Column Sampling (colsample bytree and maybe colsample by level): grid searched\n",
    "values in the range [0.4, 0.6, 0.8, 1.0].\n",
    "- Min Leaf Weight (min child weight): simplified to the ratio: 3/rare events , where rare events is the percentage of rare event observations in the dataset.\n",
    "- Tree Size (max depth): grid searched values in the range [4, 6, 8, 10].\n",
    "- Min Split Gain (gamma): fixed with a value of zero (Pruning).\n",
    "- scale_pos_weight (for unbalanced classes):grid searched values in the range [1, 3, 5]# Note that  XGBoost recommends sum(neg instances)/sum(pos istances)\n",
    " \n",
    "https://www.youtube.com/watch?v=LgLcfZjNF44 "
   ]
  },
  {
   "cell_type": "code",
   "execution_count": 155,
   "metadata": {},
   "outputs": [],
   "source": [
    "model = xgb.XGBClassifier(n_estimators=50,random_state=seed)"
   ]
  },
  {
   "cell_type": "code",
   "execution_count": 157,
   "metadata": {},
   "outputs": [],
   "source": [
    "from sklearn.model_selection import GridSearchCV,RandomizedSearchCV,StratifiedKFold"
   ]
  },
  {
   "cell_type": "code",
   "execution_count": 170,
   "metadata": {},
   "outputs": [],
   "source": [
    "param_grid = {\n",
    "    'max_depth':[4,6,8,10],\n",
    "    'scale_pos_weight':[1,3,5],\n",
    "    'subsample':[0.5,0.75,1],\n",
    "    'colsample_bytree':[0.4,0.6,0.8,1],\n",
    "    'learning_rate':[0.01,0.05,0.1],\n",
    "    'min_child_weight':[1,3,5]\n",
    "}"
   ]
  },
  {
   "cell_type": "code",
   "execution_count": 180,
   "metadata": {},
   "outputs": [
    {
     "data": {
      "text/plain": [
       "GridSearchCV(cv=10,\n",
       "             estimator=XGBClassifier(base_score=None, booster=None,\n",
       "                                     colsample_bylevel=None,\n",
       "                                     colsample_bynode=None,\n",
       "                                     colsample_bytree=None,\n",
       "                                     enable_categorical=False, gamma=None,\n",
       "                                     gpu_id=None, importance_type=None,\n",
       "                                     interaction_constraints=None,\n",
       "                                     learning_rate=None, max_delta_step=None,\n",
       "                                     max_depth=None, min_child_weight=None,\n",
       "                                     missing=nan, monotone_constraints=None...\n",
       "                                     num_parallel_tree=None, predictor=None,\n",
       "                                     random_state=10, reg_alpha=None,\n",
       "                                     reg_lambda=None, scale_pos_weight=None,\n",
       "                                     subsample=None, tree_method=None,\n",
       "                                     validate_parameters=None, verbosity=None),\n",
       "             param_grid={'colsample_bytree': [0.4, 0.6, 0.8, 1],\n",
       "                         'learning_rate': [0.01, 0.05, 0.1],\n",
       "                         'max_depth': [4, 6, 8, 10],\n",
       "                         'scale_pos_weight': [1, 3, 5],\n",
       "                         'subsample': [0.5, 0.75, 1]},\n",
       "             scoring='roc_auc')"
      ]
     },
     "execution_count": 180,
     "metadata": {},
     "output_type": "execute_result"
    }
   ],
   "source": [
    "y_hat_grid = GridSearchCV(model, param_grid,scoring='roc_auc',cv=10)\n",
    "y_hat_grid.fit(X_train,y_train,eval_metric='logloss')"
   ]
  },
  {
   "cell_type": "code",
   "execution_count": 175,
   "metadata": {},
   "outputs": [
    {
     "name": "stdout",
     "output_type": "stream",
     "text": [
      "0.8359199134199133\n",
      "{'colsample_bytree': 0.6, 'learning_rate': 0.1, 'max_depth': 4, 'scale_pos_weight': 3, 'subsample': 1}\n"
     ]
    }
   ],
   "source": [
    "print(y_hat_grid.best_score_)\n",
    "print(y_hat_grid.best_params_)"
   ]
  },
  {
   "cell_type": "code",
   "execution_count": 178,
   "metadata": {
    "scrolled": true
   },
   "outputs": [
    {
     "data": {
      "text/plain": [
       "RandomizedSearchCV(cv=10,\n",
       "                   estimator=XGBClassifier(base_score=None, booster=None,\n",
       "                                           colsample_bylevel=None,\n",
       "                                           colsample_bynode=None,\n",
       "                                           colsample_bytree=None,\n",
       "                                           enable_categorical=False, gamma=None,\n",
       "                                           gpu_id=None, importance_type=None,\n",
       "                                           interaction_constraints=None,\n",
       "                                           learning_rate=None,\n",
       "                                           max_delta_step=None, max_depth=None,\n",
       "                                           min_child_weight=None, missing=nan,\n",
       "                                           monotone_constraint...\n",
       "                                           predictor=None, random_state=10,\n",
       "                                           reg_alpha=None, reg_lambda=None,\n",
       "                                           scale_pos_weight=None,\n",
       "                                           subsample=None, tree_method=None,\n",
       "                                           validate_parameters=None,\n",
       "                                           verbosity=None),\n",
       "                   n_iter=20,\n",
       "                   param_distributions={'colsample_bytree': [0.4, 0.6, 0.8, 1],\n",
       "                                        'learning_rate': [0.01, 0.05, 0.1],\n",
       "                                        'max_depth': [4, 6, 8, 10],\n",
       "                                        'scale_pos_weight': [1, 3, 5],\n",
       "                                        'subsample': [0.5, 0.75, 1]},\n",
       "                   random_state=10, scoring='roc_auc')"
      ]
     },
     "execution_count": 178,
     "metadata": {},
     "output_type": "execute_result"
    }
   ],
   "source": [
    "y_hat_grid_2 = RandomizedSearchCV(model, param_grid,scoring='roc_auc',cv=10,n_iter=20,random_state=seed)\n",
    "y_hat_grid_2.fit(X_train,y_train,eval_metric='logloss')"
   ]
  },
  {
   "cell_type": "code",
   "execution_count": 179,
   "metadata": {},
   "outputs": [
    {
     "name": "stdout",
     "output_type": "stream",
     "text": [
      "0.8327380952380953\n",
      "{'subsample': 1, 'scale_pos_weight': 5, 'max_depth': 4, 'learning_rate': 0.05, 'colsample_bytree': 0.6}\n"
     ]
    }
   ],
   "source": [
    "print(y_hat_grid_2.best_score_)\n",
    "print(y_hat_grid_2.best_params_)"
   ]
  },
  {
   "cell_type": "code",
   "execution_count": 186,
   "metadata": {},
   "outputs": [],
   "source": [
    "final_model = xgb.XGBClassifier(n_estimators=50, \n",
    "                                learning_rate=0.05, \n",
    "                                colsample_bytree=0.6,\n",
    "                                max_depth=4,\n",
    "                                scale_pos_weight=5,\n",
    "                                subsample=1)"
   ]
  },
  {
   "cell_type": "code",
   "execution_count": 191,
   "metadata": {
    "scrolled": true
   },
   "outputs": [
    {
     "name": "stdout",
     "output_type": "stream",
     "text": [
      "[0]\tvalidation_0-auc:0.78028\n",
      "[1]\tvalidation_0-auc:0.79380\n",
      "[2]\tvalidation_0-auc:0.80565\n",
      "[3]\tvalidation_0-auc:0.82667\n",
      "[4]\tvalidation_0-auc:0.83037\n",
      "[5]\tvalidation_0-auc:0.83370\n",
      "[6]\tvalidation_0-auc:0.82778\n",
      "[7]\tvalidation_0-auc:0.82333\n",
      "[8]\tvalidation_0-auc:0.81435\n",
      "[9]\tvalidation_0-auc:0.81991\n",
      "[10]\tvalidation_0-auc:0.81843\n",
      "[11]\tvalidation_0-auc:0.80944\n",
      "[12]\tvalidation_0-auc:0.80574\n",
      "[13]\tvalidation_0-auc:0.80056\n",
      "[14]\tvalidation_0-auc:0.80111\n",
      "[15]\tvalidation_0-auc:0.80593\n",
      "[16]\tvalidation_0-auc:0.80537\n",
      "[17]\tvalidation_0-auc:0.80574\n",
      "[18]\tvalidation_0-auc:0.80407\n",
      "[19]\tvalidation_0-auc:0.80148\n",
      "[20]\tvalidation_0-auc:0.80167\n",
      "[21]\tvalidation_0-auc:0.80315\n",
      "[22]\tvalidation_0-auc:0.80519\n",
      "[23]\tvalidation_0-auc:0.80907\n",
      "[24]\tvalidation_0-auc:0.81037\n"
     ]
    },
    {
     "data": {
      "text/plain": [
       "XGBClassifier(base_score=0.5, booster='gbtree', colsample_bylevel=1,\n",
       "              colsample_bynode=1, colsample_bytree=0.6,\n",
       "              enable_categorical=False, gamma=0, gpu_id=-1,\n",
       "              importance_type=None, interaction_constraints='',\n",
       "              learning_rate=0.05, max_delta_step=0, max_depth=4,\n",
       "              min_child_weight=1, missing=nan, monotone_constraints='()',\n",
       "              n_estimators=50, n_jobs=4, num_parallel_tree=1, predictor='auto',\n",
       "              random_state=0, reg_alpha=0, reg_lambda=1, scale_pos_weight=5,\n",
       "              subsample=1, tree_method='exact', validate_parameters=1,\n",
       "              verbosity=None)"
      ]
     },
     "execution_count": 191,
     "metadata": {},
     "output_type": "execute_result"
    }
   ],
   "source": [
    "final_model.fit(X_train,y_train,eval_metric=\"auc\",early_stopping_rounds=20,eval_set=eval_set,verbose=True)\n"
   ]
  },
  {
   "cell_type": "code",
   "execution_count": 192,
   "metadata": {},
   "outputs": [
    {
     "name": "stdout",
     "output_type": "stream",
     "text": [
      "model best score: 0.833704\n",
      "model best iteration: 5\n",
      "model ntree limit: 6\n"
     ]
    }
   ],
   "source": [
    "print(\"model best score:\",final_model.best_score)\n",
    "print(\"model best iteration:\", final_model.best_iteration)\n",
    "print(\"model ntree limit:\",final_model.best_ntree_limit)"
   ]
  },
  {
   "cell_type": "code",
   "execution_count": 203,
   "metadata": {},
   "outputs": [],
   "source": [
    "final_model = xgb.XGBClassifier(n_estimators=6, \n",
    "                                learning_rate=0.05, \n",
    "                                colsample_bytree=0.6,\n",
    "                                max_depth=4,\n",
    "                                scale_pos_weight=1,\n",
    "                                subsample=1,\n",
    "                                random_state=seed)"
   ]
  },
  {
   "cell_type": "code",
   "execution_count": 204,
   "metadata": {},
   "outputs": [],
   "source": [
    "final_model.fit(X_train,y_train,eval_metric=\"auc\");\n"
   ]
  },
  {
   "cell_type": "code",
   "execution_count": 205,
   "metadata": {},
   "outputs": [
    {
     "data": {
      "text/plain": [
       "array([[87, 13],\n",
       "       [19, 35]], dtype=int64)"
      ]
     },
     "execution_count": 205,
     "metadata": {},
     "output_type": "execute_result"
    }
   ],
   "source": [
    "y_predict = final_model.predict(X_test)\n",
    "confusion_matrix(y_test,y_predict)"
   ]
  },
  {
   "cell_type": "code",
   "execution_count": 206,
   "metadata": {},
   "outputs": [
    {
     "name": "stdout",
     "output_type": "stream",
     "text": [
      "              precision    recall  f1-score   support\n",
      "\n",
      "         0.0       0.82      0.87      0.84       100\n",
      "         1.0       0.73      0.65      0.69        54\n",
      "\n",
      "    accuracy                           0.79       154\n",
      "   macro avg       0.77      0.76      0.77       154\n",
      "weighted avg       0.79      0.79      0.79       154\n",
      "\n"
     ]
    }
   ],
   "source": [
    "print(classification_report(y_test,y_predict))"
   ]
  },
  {
   "cell_type": "code",
   "execution_count": null,
   "metadata": {},
   "outputs": [],
   "source": []
  },
  {
   "cell_type": "markdown",
   "metadata": {},
   "source": [
    "### LightGBM"
   ]
  },
  {
   "cell_type": "code",
   "execution_count": 207,
   "metadata": {},
   "outputs": [],
   "source": [
    "import lightgbm as lgb"
   ]
  },
  {
   "cell_type": "code",
   "execution_count": 209,
   "metadata": {},
   "outputs": [],
   "source": [
    "model = lgb.LGBMClassifier(random_state=seed)\n",
    "model.fit(X_train,y_train)\n",
    "y_predict = model.predict(X_test)"
   ]
  },
  {
   "cell_type": "code",
   "execution_count": 210,
   "metadata": {},
   "outputs": [
    {
     "data": {
      "text/plain": [
       "array([[78, 22],\n",
       "       [18, 36]], dtype=int64)"
      ]
     },
     "execution_count": 210,
     "metadata": {},
     "output_type": "execute_result"
    }
   ],
   "source": [
    "confusion_matrix(y_test,y_predict)"
   ]
  },
  {
   "cell_type": "code",
   "execution_count": 211,
   "metadata": {},
   "outputs": [
    {
     "name": "stdout",
     "output_type": "stream",
     "text": [
      "              precision    recall  f1-score   support\n",
      "\n",
      "         0.0       0.81      0.78      0.80       100\n",
      "         1.0       0.62      0.67      0.64        54\n",
      "\n",
      "    accuracy                           0.74       154\n",
      "   macro avg       0.72      0.72      0.72       154\n",
      "weighted avg       0.75      0.74      0.74       154\n",
      "\n"
     ]
    }
   ],
   "source": [
    "print(classification_report(y_test,y_predict))"
   ]
  },
  {
   "cell_type": "code",
   "execution_count": 227,
   "metadata": {},
   "outputs": [
    {
     "data": {
      "image/png": "[encoded data removed]",
      "text/plain": [
       "<Figure size 432x288 with 1 Axes>"
      ]
     },
     "metadata": {
      "needs_background": "light"
     },
     "output_type": "display_data"
    }
   ],
   "source": [
    "lgb.plot_importance(model,importance_type='split');"
   ]
  },
  {
   "cell_type": "code",
   "execution_count": 230,
   "metadata": {},
   "outputs": [
    {
     "name": "stdout",
     "output_type": "stream",
     "text": [
      "Thresholds: 13\n",
      "nFeature: 8\n",
      "accuracy: 0.7402597402597403 \n",
      "\n",
      "Thresholds: 15\n",
      "nFeature: 7\n",
      "accuracy: 0.7077922077922078 \n",
      "\n",
      "Thresholds: 17\n",
      "nFeature: 6\n",
      "accuracy: 0.7402597402597403 \n",
      "\n",
      "Thresholds: 18\n",
      "nFeature: 5\n",
      "accuracy: 0.7532467532467533 \n",
      "\n",
      "Thresholds: 41\n",
      "nFeature: 4\n",
      "accuracy: 0.7402597402597403 \n",
      "\n",
      "Thresholds: 44\n",
      "nFeature: 3\n",
      "accuracy: 0.7012987012987013 \n",
      "\n",
      "Thresholds: 59\n",
      "nFeature: 2\n",
      "accuracy: 0.7272727272727273 \n",
      "\n",
      "Thresholds: 63\n",
      "nFeature: 1\n",
      "accuracy: 0.7402597402597403 \n",
      "\n"
     ]
    }
   ],
   "source": [
    "thresholds = np.sort(model.feature_importances_)\n",
    "for threshold in thresholds:\n",
    "    selection = SelectFromModel(model,threshold=threshold,prefit=True) #feature selection\n",
    "    #Transform X_train\n",
    "    select_X_train = selection.transform(X_train)\n",
    "    \n",
    "    #train X_train\n",
    "    selection_model = xgb.XGBClassifier(random_state=seed)\n",
    "    selection_model.fit(select_X_train,y_train,eval_metric='auc')\n",
    "    \n",
    "    #Evaluation Test\n",
    "    select_X_test = selection.transform(X_test)\n",
    "    accuracy = selection_model.score(select_X_test,y_test)\n",
    "    print(\"Thresholds:\",threshold)\n",
    "    print(\"nFeature:\",select_X_train.shape[1])\n",
    "    print(\"accuracy:\",accuracy, \"\\n\")\n",
    "    "
   ]
  },
  {
   "cell_type": "code",
   "execution_count": 217,
   "metadata": {
    "scrolled": true
   },
   "outputs": [
    {
     "name": "stdout",
     "output_type": "stream",
     "text": [
      "[1]\tvalid_0's auc: 0.814074\tvalid_0's binary_logloss: 0.610885\n",
      "[2]\tvalid_0's auc: 0.798333\tvalid_0's binary_logloss: 0.590222\n",
      "[3]\tvalid_0's auc: 0.796759\tvalid_0's binary_logloss: 0.571087\n",
      "[4]\tvalid_0's auc: 0.798056\tvalid_0's binary_logloss: 0.558027\n",
      "[5]\tvalid_0's auc: 0.799259\tvalid_0's binary_logloss: 0.545982\n",
      "[6]\tvalid_0's auc: 0.802315\tvalid_0's binary_logloss: 0.534139\n",
      "[7]\tvalid_0's auc: 0.821111\tvalid_0's binary_logloss: 0.521183\n",
      "[8]\tvalid_0's auc: 0.816296\tvalid_0's binary_logloss: 0.514922\n",
      "[9]\tvalid_0's auc: 0.822778\tvalid_0's binary_logloss: 0.506717\n",
      "[10]\tvalid_0's auc: 0.828704\tvalid_0's binary_logloss: 0.499747\n",
      "[11]\tvalid_0's auc: 0.83\tvalid_0's binary_logloss: 0.494773\n",
      "[12]\tvalid_0's auc: 0.833889\tvalid_0's binary_logloss: 0.488841\n",
      "[13]\tvalid_0's auc: 0.829352\tvalid_0's binary_logloss: 0.489166\n",
      "[14]\tvalid_0's auc: 0.826574\tvalid_0's binary_logloss: 0.4885\n",
      "[15]\tvalid_0's auc: 0.827315\tvalid_0's binary_logloss: 0.486023\n",
      "[16]\tvalid_0's auc: 0.828056\tvalid_0's binary_logloss: 0.485426\n",
      "[17]\tvalid_0's auc: 0.828056\tvalid_0's binary_logloss: 0.484692\n",
      "[18]\tvalid_0's auc: 0.824352\tvalid_0's binary_logloss: 0.486112\n",
      "[19]\tvalid_0's auc: 0.826111\tvalid_0's binary_logloss: 0.485456\n",
      "[20]\tvalid_0's auc: 0.826852\tvalid_0's binary_logloss: 0.486927\n",
      "[21]\tvalid_0's auc: 0.825556\tvalid_0's binary_logloss: 0.489109\n",
      "[22]\tvalid_0's auc: 0.824815\tvalid_0's binary_logloss: 0.489916\n",
      "[23]\tvalid_0's auc: 0.825185\tvalid_0's binary_logloss: 0.489979\n",
      "[24]\tvalid_0's auc: 0.824815\tvalid_0's binary_logloss: 0.4926\n",
      "[25]\tvalid_0's auc: 0.822778\tvalid_0's binary_logloss: 0.492892\n",
      "[26]\tvalid_0's auc: 0.824259\tvalid_0's binary_logloss: 0.493295\n",
      "[27]\tvalid_0's auc: 0.82537\tvalid_0's binary_logloss: 0.494463\n",
      "[28]\tvalid_0's auc: 0.825926\tvalid_0's binary_logloss: 0.495105\n",
      "[29]\tvalid_0's auc: 0.826667\tvalid_0's binary_logloss: 0.495637\n",
      "[30]\tvalid_0's auc: 0.825741\tvalid_0's binary_logloss: 0.498223\n",
      "[31]\tvalid_0's auc: 0.823333\tvalid_0's binary_logloss: 0.501397\n",
      "[32]\tvalid_0's auc: 0.822963\tvalid_0's binary_logloss: 0.505273\n",
      "[33]\tvalid_0's auc: 0.821852\tvalid_0's binary_logloss: 0.507249\n",
      "[34]\tvalid_0's auc: 0.821667\tvalid_0's binary_logloss: 0.51086\n",
      "[35]\tvalid_0's auc: 0.819074\tvalid_0's binary_logloss: 0.514481\n",
      "[36]\tvalid_0's auc: 0.817222\tvalid_0's binary_logloss: 0.517909\n",
      "[37]\tvalid_0's auc: 0.815\tvalid_0's binary_logloss: 0.522736\n",
      "[38]\tvalid_0's auc: 0.815556\tvalid_0's binary_logloss: 0.524085\n",
      "[39]\tvalid_0's auc: 0.813889\tvalid_0's binary_logloss: 0.529837\n",
      "[40]\tvalid_0's auc: 0.811481\tvalid_0's binary_logloss: 0.532703\n",
      "[41]\tvalid_0's auc: 0.813889\tvalid_0's binary_logloss: 0.531659\n",
      "[42]\tvalid_0's auc: 0.815185\tvalid_0's binary_logloss: 0.531795\n",
      "[43]\tvalid_0's auc: 0.812593\tvalid_0's binary_logloss: 0.536737\n",
      "[44]\tvalid_0's auc: 0.811111\tvalid_0's binary_logloss: 0.53869\n",
      "[45]\tvalid_0's auc: 0.809259\tvalid_0's binary_logloss: 0.54078\n",
      "[46]\tvalid_0's auc: 0.810741\tvalid_0's binary_logloss: 0.54228\n",
      "[47]\tvalid_0's auc: 0.809815\tvalid_0's binary_logloss: 0.544741\n",
      "[48]\tvalid_0's auc: 0.809815\tvalid_0's binary_logloss: 0.547906\n",
      "[49]\tvalid_0's auc: 0.807407\tvalid_0's binary_logloss: 0.550383\n",
      "[50]\tvalid_0's auc: 0.809074\tvalid_0's binary_logloss: 0.551625\n"
     ]
    }
   ],
   "source": [
    "# Advanced - early stopping\n",
    "model = lgb.LGBMClassifier(n_estimators=50,random_state=seed)\n",
    "eval_set = [(X_test,y_test)]\n",
    "model.fit(X_train,y_train,eval_metric=\"auc\",eval_set=eval_set,verbose=True);\n"
   ]
  },
  {
   "cell_type": "code",
   "execution_count": 218,
   "metadata": {
    "scrolled": true
   },
   "outputs": [
    {
     "name": "stdout",
     "output_type": "stream",
     "text": [
      "[1]\tvalid_0's auc: 0.814074\tvalid_0's binary_logloss: 0.610885\n",
      "[2]\tvalid_0's auc: 0.798333\tvalid_0's binary_logloss: 0.590222\n",
      "[3]\tvalid_0's auc: 0.796759\tvalid_0's binary_logloss: 0.571087\n",
      "[4]\tvalid_0's auc: 0.798056\tvalid_0's binary_logloss: 0.558027\n",
      "[5]\tvalid_0's auc: 0.799259\tvalid_0's binary_logloss: 0.545982\n",
      "[6]\tvalid_0's auc: 0.802315\tvalid_0's binary_logloss: 0.534139\n",
      "[7]\tvalid_0's auc: 0.821111\tvalid_0's binary_logloss: 0.521183\n",
      "[8]\tvalid_0's auc: 0.816296\tvalid_0's binary_logloss: 0.514922\n",
      "[9]\tvalid_0's auc: 0.822778\tvalid_0's binary_logloss: 0.506717\n",
      "[10]\tvalid_0's auc: 0.828704\tvalid_0's binary_logloss: 0.499747\n",
      "[11]\tvalid_0's auc: 0.83\tvalid_0's binary_logloss: 0.494773\n",
      "[12]\tvalid_0's auc: 0.833889\tvalid_0's binary_logloss: 0.488841\n",
      "[13]\tvalid_0's auc: 0.829352\tvalid_0's binary_logloss: 0.489166\n",
      "[14]\tvalid_0's auc: 0.826574\tvalid_0's binary_logloss: 0.4885\n",
      "[15]\tvalid_0's auc: 0.827315\tvalid_0's binary_logloss: 0.486023\n",
      "[16]\tvalid_0's auc: 0.828056\tvalid_0's binary_logloss: 0.485426\n",
      "[17]\tvalid_0's auc: 0.828056\tvalid_0's binary_logloss: 0.484692\n",
      "[18]\tvalid_0's auc: 0.824352\tvalid_0's binary_logloss: 0.486112\n",
      "[19]\tvalid_0's auc: 0.826111\tvalid_0's binary_logloss: 0.485456\n",
      "[20]\tvalid_0's auc: 0.826852\tvalid_0's binary_logloss: 0.486927\n",
      "[21]\tvalid_0's auc: 0.825556\tvalid_0's binary_logloss: 0.489109\n",
      "[22]\tvalid_0's auc: 0.824815\tvalid_0's binary_logloss: 0.489916\n"
     ]
    },
    {
     "data": {
      "text/plain": [
       "LGBMClassifier(n_estimators=50, random_state=10)"
      ]
     },
     "execution_count": 218,
     "metadata": {},
     "output_type": "execute_result"
    }
   ],
   "source": [
    "\n",
    "#early stopping\n",
    "model.fit(X_train,y_train,eval_metric=\"auc\",eval_set=eval_set,verbose=True,early_stopping_rounds=10)\n"
   ]
  },
  {
   "cell_type": "code",
   "execution_count": 224,
   "metadata": {},
   "outputs": [
    {
     "name": "stdout",
     "output_type": "stream",
     "text": [
      "12\n",
      "defaultdict(<class 'collections.OrderedDict'>, {'valid_0': OrderedDict([('auc', 0.8338888888888889), ('binary_logloss', 0.4888412646882451)])})\n"
     ]
    }
   ],
   "source": [
    "print(model.best_iteration_)\n",
    "print(model.best_score_)\n"
   ]
  },
  {
   "cell_type": "code",
   "execution_count": null,
   "metadata": {},
   "outputs": [],
   "source": []
  },
  {
   "cell_type": "code",
   "execution_count": 231,
   "metadata": {},
   "outputs": [],
   "source": [
    "param_grid = {\n",
    "    'max_depth':[4,6,8,10],\n",
    "    'scale_pos_weight':[1,3,5],\n",
    "    'subsample':[0.5,0.75,1],\n",
    "    'colsample_bytree':[0.4,0.6,0.8,1],\n",
    "    'learning_rate':[0.01,0.05,0.1],\n",
    "    'min_child_weight':[1,3,5],\n",
    "    \"num_leaves\": [5,10,20,30,31]\n",
    "}"
   ]
  },
  {
   "cell_type": "code",
   "execution_count": 232,
   "metadata": {},
   "outputs": [
    {
     "data": {
      "text/plain": [
       "RandomizedSearchCV(cv=10,\n",
       "                   estimator=LGBMClassifier(n_estimators=50, random_state=10),\n",
       "                   n_iter=20,\n",
       "                   param_distributions={'colsample_bytree': [0.4, 0.6, 0.8, 1],\n",
       "                                        'learning_rate': [0.01, 0.05, 0.1],\n",
       "                                        'max_depth': [4, 6, 8, 10],\n",
       "                                        'min_child_weight': [1, 3, 5],\n",
       "                                        'scale_pos_weight': [1, 3, 5],\n",
       "                                        'subsample': [0.5, 0.75, 1]},\n",
       "                   random_state=10, scoring='roc_auc')"
      ]
     },
     "execution_count": 232,
     "metadata": {},
     "output_type": "execute_result"
    }
   ],
   "source": [
    "y_hat_grid_2 = RandomizedSearchCV(model, param_grid,scoring='roc_auc',cv=10,n_iter=20,random_state=seed)\n",
    "y_hat_grid_2.fit(X_train,y_train,eval_metric='auc')"
   ]
  },
  {
   "cell_type": "code",
   "execution_count": 233,
   "metadata": {},
   "outputs": [
    {
     "name": "stdout",
     "output_type": "stream",
     "text": [
      "0.832310606060606\n",
      "{'subsample': 0.75, 'scale_pos_weight': 1, 'min_child_weight': 3, 'max_depth': 4, 'learning_rate': 0.01, 'colsample_bytree': 0.6}\n"
     ]
    }
   ],
   "source": [
    "print(y_hat_grid_2.best_score_)\n",
    "print(y_hat_grid_2.best_params_)"
   ]
  },
  {
   "cell_type": "code",
   "execution_count": 260,
   "metadata": {},
   "outputs": [
    {
     "name": "stdout",
     "output_type": "stream",
     "text": [
      "[1]\tvalid_0's auc: 0.803796\tvalid_0's binary_logloss: 0.644314\n",
      "[2]\tvalid_0's auc: 0.832037\tvalid_0's binary_logloss: 0.642275\n",
      "[3]\tvalid_0's auc: 0.821944\tvalid_0's binary_logloss: 0.640852\n",
      "[4]\tvalid_0's auc: 0.837593\tvalid_0's binary_logloss: 0.63722\n",
      "[5]\tvalid_0's auc: 0.841296\tvalid_0's binary_logloss: 0.634307\n",
      "[6]\tvalid_0's auc: 0.837685\tvalid_0's binary_logloss: 0.632609\n",
      "[7]\tvalid_0's auc: 0.83963\tvalid_0's binary_logloss: 0.629928\n",
      "[8]\tvalid_0's auc: 0.835556\tvalid_0's binary_logloss: 0.62838\n",
      "[9]\tvalid_0's auc: 0.836944\tvalid_0's binary_logloss: 0.626557\n",
      "[10]\tvalid_0's auc: 0.841667\tvalid_0's binary_logloss: 0.624111\n",
      "[11]\tvalid_0's auc: 0.844074\tvalid_0's binary_logloss: 0.621258\n",
      "[12]\tvalid_0's auc: 0.846852\tvalid_0's binary_logloss: 0.619886\n",
      "[13]\tvalid_0's auc: 0.846389\tvalid_0's binary_logloss: 0.618708\n",
      "[14]\tvalid_0's auc: 0.843056\tvalid_0's binary_logloss: 0.61648\n",
      "[15]\tvalid_0's auc: 0.84287\tvalid_0's binary_logloss: 0.61361\n",
      "[16]\tvalid_0's auc: 0.841574\tvalid_0's binary_logloss: 0.612532\n",
      "[17]\tvalid_0's auc: 0.840278\tvalid_0's binary_logloss: 0.61008\n",
      "[18]\tvalid_0's auc: 0.840093\tvalid_0's binary_logloss: 0.607991\n",
      "[19]\tvalid_0's auc: 0.83787\tvalid_0's binary_logloss: 0.606788\n",
      "[20]\tvalid_0's auc: 0.841481\tvalid_0's binary_logloss: 0.604117\n",
      "[21]\tvalid_0's auc: 0.842778\tvalid_0's binary_logloss: 0.601293\n",
      "[22]\tvalid_0's auc: 0.841111\tvalid_0's binary_logloss: 0.600522\n",
      "[23]\tvalid_0's auc: 0.842222\tvalid_0's binary_logloss: 0.598621\n",
      "[24]\tvalid_0's auc: 0.840741\tvalid_0's binary_logloss: 0.597878\n",
      "[25]\tvalid_0's auc: 0.843704\tvalid_0's binary_logloss: 0.595435\n",
      "[26]\tvalid_0's auc: 0.844259\tvalid_0's binary_logloss: 0.59293\n",
      "[27]\tvalid_0's auc: 0.844074\tvalid_0's binary_logloss: 0.592043\n",
      "[28]\tvalid_0's auc: 0.843704\tvalid_0's binary_logloss: 0.589502\n",
      "[29]\tvalid_0's auc: 0.844074\tvalid_0's binary_logloss: 0.588232\n",
      "[30]\tvalid_0's auc: 0.842593\tvalid_0's binary_logloss: 0.586214\n",
      "[31]\tvalid_0's auc: 0.842593\tvalid_0's binary_logloss: 0.584982\n",
      "[32]\tvalid_0's auc: 0.841296\tvalid_0's binary_logloss: 0.582994\n"
     ]
    },
    {
     "data": {
      "text/plain": [
       "LGBMClassifier(colsample_bytree=0.6, learning_rate=0.01, max_depth=4,\n",
       "               min_child_weight=3, n_estimators=50, scale_pos_weight=1,\n",
       "               subsample=0.75)"
      ]
     },
     "execution_count": 260,
     "metadata": {},
     "output_type": "execute_result"
    }
   ],
   "source": [
    "final_model = lgb.LGBMClassifier(n_estimators=50, \n",
    "                                learning_rate=0.01, \n",
    "                                colsample_bytree=0.6,\n",
    "                                max_depth=4,\n",
    "                                min_child_weight=3,\n",
    "                                scale_pos_weight=1,\n",
    "                                subsample=0.75)\n",
    "final_model.fit(X_train,y_train,eval_metric=\"auc\",early_stopping_rounds=20,eval_set=eval_set,verbose=True)\n"
   ]
  },
  {
   "cell_type": "code",
   "execution_count": 261,
   "metadata": {},
   "outputs": [
    {
     "name": "stdout",
     "output_type": "stream",
     "text": [
      "12\n",
      "defaultdict(<class 'collections.OrderedDict'>, {'valid_0': OrderedDict([('auc', 0.8468518518518519), ('binary_logloss', 0.6198863794417927)])})\n"
     ]
    }
   ],
   "source": [
    "print(final_model.best_iteration_)\n",
    "print(final_model.best_score_)\n"
   ]
  },
  {
   "cell_type": "code",
   "execution_count": 262,
   "metadata": {},
   "outputs": [],
   "source": [
    "final_model = lgb.LGBMClassifier(n_estimators=12, \n",
    "                                learning_rate=0.01, \n",
    "                                colsample_bytree=0.6,\n",
    "                                max_depth=4,\n",
    "                                min_child_weight=3,\n",
    "                                scale_pos_weight=1,\n",
    "                                subsample=0.75)\n",
    "final_model.fit(X_train,y_train,eval_metric='auc');"
   ]
  },
  {
   "cell_type": "code",
   "execution_count": 263,
   "metadata": {},
   "outputs": [
    {
     "data": {
      "text/plain": [
       "array([[100,   0],\n",
       "       [ 54,   0]], dtype=int64)"
      ]
     },
     "execution_count": 263,
     "metadata": {},
     "output_type": "execute_result"
    }
   ],
   "source": [
    "y_predict = final_model.predict(X_test)\n",
    "confusion_matrix(y_test,y_predict)"
   ]
  }
 ],
 "metadata": {
  "kernelspec": {
   "display_name": "Python 3",
   "language": "python",
   "name": "python3"
  },
  "language_info": {
   "codemirror_mode": {
    "name": "ipython",
    "version": 3
   },
   "file_extension": ".py",
   "mimetype": "text/x-python",
   "name": "python",
   "nbconvert_exporter": "python",
   "pygments_lexer": "ipython3",
   "version": "3.8.5"
  }
 },
 "nbformat": 4,
 "nbformat_minor": 4
}

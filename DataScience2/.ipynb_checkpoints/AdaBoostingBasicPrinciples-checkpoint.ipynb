{
 "cells": [
  {
   "cell_type": "markdown",
   "metadata": {},
   "source": [
    "# DATA SCIENCE 2 -ESEO DSMT \n",
    "### 8 Nov 2021  - Prof. R.Longo\n",
    "\n",
    "### AdaBoosting  Basic Principles"
   ]
  },
  {
   "cell_type": "code",
   "execution_count": 1,
   "metadata": {},
   "outputs": [],
   "source": [
    "import numpy as np\n",
    "import matplotlib.pyplot as plt"
   ]
  },
  {
   "cell_type": "code",
   "execution_count": 2,
   "metadata": {},
   "outputs": [
    {
     "name": "stdout",
     "output_type": "stream",
     "text": [
      "[[ 1]\n",
      " [ 1]\n",
      " [-1]\n",
      " [ 1]\n",
      " [ 1]]\n"
     ]
    }
   ],
   "source": [
    "points=[]\n",
    "points.append([1,5])\n",
    "points.append([5,5])\n",
    "points.append([3,3])\n",
    "points.append([1,1])\n",
    "points.append([5,1])\n",
    "\n",
    "Xtrain=np.array(points)\n",
    "ytrain = np.array([1,1,-1,1,1]).reshape(Xtrain.shape[0],1)\n",
    "print(ytrain)"
   ]
  },
  {
   "cell_type": "code",
   "execution_count": 3,
   "metadata": {},
   "outputs": [],
   "source": [
    "Xtest=np.array([[2.5, 3]])\n"
   ]
  },
  {
   "cell_type": "code",
   "execution_count": 4,
   "metadata": {},
   "outputs": [
    {
     "data": {
      "image/png": "[encoded data removed]",
      "text/plain": [
       "<Figure size 432x288 with 1 Axes>"
      ]
     },
     "metadata": {
      "needs_background": "light"
     },
     "output_type": "display_data"
    }
   ],
   "source": [
    "fig, ax = plt.subplots()\n",
    "ax.scatter(Xtrain[:,0],Xtrain[:,1],c=ytrain);\n"
   ]
  },
  {
   "cell_type": "code",
   "execution_count": 5,
   "metadata": {},
   "outputs": [],
   "source": [
    "def stumpClassify(dataMatrix,dimen,threshVal, threshIneq):\n",
    "    retArray = np.zeros((dataMatrix.shape[0],1))\n",
    "    if threshIneq == 'lt':\n",
    "        retArray[dataMatrix[:,dimen] <= threshVal] = 1\n",
    "        retArray[dataMatrix[:,dimen] >= threshVal] = -1\n",
    "    else:\n",
    "        retArray[dataMatrix[:,dimen] >= threshVal] = 1.0\n",
    "        retArray[dataMatrix[:,dimen] < threshVal] = -1.0\n",
    "    return retArray"
   ]
  },
  {
   "cell_type": "markdown",
   "metadata": {},
   "source": [
    "# AdaBoost Algorithm.\n",
    "For Round t=1 ONLY\n",
    "\n",
    "1. $w_i=\\frac{1}{N}$ \n",
    "\n",
    "2. Calculate the Error Rate ($\\epsilon$) for each weak Classifier:\n",
    "    $\\epsilon=\\sum_{n=1}^{Nwrong} w_i$  (Error Rate)\n",
    "3. Pick up the classifier with lowest error rate\n",
    "\n",
    "4. Compute the Voting Power ($\\alpha$) for the classifier: \n",
    " $\\alpha_1 = \\frac{1}{2} ln(\\frac{1-\\epsilon}{\\epsilon})$\n",
    " \n",
    "5. Append the classifier in the Ensemble:\n",
    "$H(x)= \\alpha_1h_1(x_i)$\n",
    "\n",
    "For Round t>1 \n",
    " \n",
    "1. Update the weights for the training points using the , empathizing  the missclassified points by using the Error Rate of  the previous round:\n",
    "\n",
    " - if the point was correctly classified: $w_{n+1}=  \\frac{1}{2} \\frac{1}{1-\\epsilon}*w_{n}$  -> the new weight associtated to the 1point will be smaller than the previous round\n",
    " - if the point was NOT correctly classified  $w_{n+1}=  \\frac{1}{2} \\frac{1}{\\epsilon}*w_{n}$  -> the new weight associtated to the point will be bigger than the previous round\n",
    " \n",
    "Repeat Steps\n",
    "2. to 4.\n",
    " \n",
    "5. Append the classifier in the Ensemble:\n",
    "$H(x)=\\sum_{t=1}^{T} \\alpha_th_t(x_i)$\n",
    "\n",
    "6. Make a prediction on a Test sample:\n",
    "$\\hat{H}(x)=sign(\\sum_{t=1}^{T} \\alpha_th_t(x_i))$\n",
    "\n",
    "7. Stop here or start a new Round\n",
    "\n",
    " \n",
    " \n",
    " \n"
   ]
  },
  {
   "cell_type": "code",
   "execution_count": 28,
   "metadata": {},
   "outputs": [],
   "source": [
    "def adaboostAlgorithm(N,max_rnd,rnd,old_wi,Xtrain,best_thresh=0):\n",
    "    if rnd ==1: \n",
    "        w_i = np.ones((N,1))/N #step 1\n",
    "        threshVal = [2,4,6]\n",
    "        threshIneq = 'lt'\n",
    "        errors = np.ones((N,1))\n",
    "        for i in threshVal: \n",
    "            ymodel = stumpClassify(dataMatrix=Xtrain,dimen=0,threshVal=i, threshIneq=threshIneq)\n",
    "            errors[ymodel==ytrain]=0\n",
    "            error_rate = w_i.T.dot(errors) #step 2\n",
    "            print(error_rate)\n",
    "            print(errors)\n",
    "        error_rate = 0.2\n",
    "        alpha_1 = 0.5*np.log((1-error_rate)/error_rate)#step 4\n",
    "        print(alpha_1)\n",
    "        h1 = stumpClassify(dataMatrix=Xtest,dimen=0,threshVal=6,threshIneq=threshIneq)\n",
    "        H = alpha_1*h1\n",
    "        adaboostAlgorithm(N,max_rnd,2,w_i,Xtrain)\n",
    "    if rnd >1:\n",
    "        error_rate = 0.2\n",
    "        threshVal = [2,4,6]\n",
    "        threshIneq = 'lt'\n",
    "        w2 = np.array([old_wi[0]*0.5/(1-error_rate),old_wi[1]*0.5/(1-error_rate),old_wi[2]*0.5/(error_rate),old_wi[3]*0.5/(1-error_rate),old_wi[4]*0.5/(1-error_rate)])\n",
    "        errors = np.ones((N,1))\n",
    "        for i in threshVal: \n",
    "            ymodel = stumpClassify(dataMatrix=Xtrain,dimen=0,threshVal=i, threshIneq=threshIneq)\n",
    "            errors[ymodel==ytrain]=0\n",
    "            error_rate = w2.T.dot(errors) #step 2\n",
    "            print(error_rate)\n",
    "            print(errors)\n",
    "        \n",
    "        \n",
    "        \n",
    "        "
   ]
  },
  {
   "cell_type": "code",
   "execution_count": 29,
   "metadata": {},
   "outputs": [
    {
     "name": "stdout",
     "output_type": "stream",
     "text": [
      "[[0.4]]\n",
      "[[0.]\n",
      " [1.]\n",
      " [0.]\n",
      " [0.]\n",
      " [1.]]\n",
      "[[0.4]]\n",
      "[[0.]\n",
      " [1.]\n",
      " [0.]\n",
      " [0.]\n",
      " [1.]]\n",
      "[[0.]]\n",
      "[[0.]\n",
      " [0.]\n",
      " [0.]\n",
      " [0.]\n",
      " [0.]]\n",
      "0.6931471805599453\n"
     ]
    },
    {
     "ename": "UnboundLocalError",
     "evalue": "local variable 'threshVal' referenced before assignment",
     "output_type": "error",
     "traceback": [
      "\u001b[1;31m---------------------------------------------------------------------------\u001b[0m",
      "\u001b[1;31mUnboundLocalError\u001b[0m                         Traceback (most recent call last)",
      "\u001b[1;32m<ipython-input-29-ba21dd2932d5>\u001b[0m in \u001b[0;36m<module>\u001b[1;34m\u001b[0m\n\u001b[1;32m----> 1\u001b[1;33m \u001b[0madaboostAlgorithm\u001b[0m\u001b[1;33m(\u001b[0m\u001b[0mN\u001b[0m\u001b[1;33m=\u001b[0m\u001b[1;36m5\u001b[0m\u001b[1;33m,\u001b[0m\u001b[0mmax_rnd\u001b[0m\u001b[1;33m=\u001b[0m\u001b[1;36m1\u001b[0m\u001b[1;33m,\u001b[0m\u001b[0mrnd\u001b[0m\u001b[1;33m=\u001b[0m\u001b[1;36m1\u001b[0m\u001b[1;33m,\u001b[0m\u001b[0mold_wi\u001b[0m\u001b[1;33m=\u001b[0m\u001b[1;36m5\u001b[0m\u001b[1;33m,\u001b[0m\u001b[0mXtrain\u001b[0m\u001b[1;33m=\u001b[0m\u001b[0mXtrain\u001b[0m\u001b[1;33m)\u001b[0m\u001b[1;33m\u001b[0m\u001b[1;33m\u001b[0m\u001b[0m\n\u001b[0m",
      "\u001b[1;32m<ipython-input-28-3709a7c8f0d5>\u001b[0m in \u001b[0;36madaboostAlgorithm\u001b[1;34m(N, max_rnd, rnd, old_wi, Xtrain, best_thresh)\u001b[0m\n\u001b[0;32m     16\u001b[0m         \u001b[0mh1\u001b[0m \u001b[1;33m=\u001b[0m \u001b[0mstumpClassify\u001b[0m\u001b[1;33m(\u001b[0m\u001b[0mdataMatrix\u001b[0m\u001b[1;33m=\u001b[0m\u001b[0mXtest\u001b[0m\u001b[1;33m,\u001b[0m\u001b[0mdimen\u001b[0m\u001b[1;33m=\u001b[0m\u001b[1;36m0\u001b[0m\u001b[1;33m,\u001b[0m\u001b[0mthreshVal\u001b[0m\u001b[1;33m=\u001b[0m\u001b[1;36m6\u001b[0m\u001b[1;33m,\u001b[0m\u001b[0mthreshIneq\u001b[0m\u001b[1;33m=\u001b[0m\u001b[0mthreshIneq\u001b[0m\u001b[1;33m)\u001b[0m\u001b[1;33m\u001b[0m\u001b[1;33m\u001b[0m\u001b[0m\n\u001b[0;32m     17\u001b[0m         \u001b[0mH\u001b[0m \u001b[1;33m=\u001b[0m \u001b[0malpha_1\u001b[0m\u001b[1;33m*\u001b[0m\u001b[0mh1\u001b[0m\u001b[1;33m\u001b[0m\u001b[1;33m\u001b[0m\u001b[0m\n\u001b[1;32m---> 18\u001b[1;33m         \u001b[0madaboostAlgorithm\u001b[0m\u001b[1;33m(\u001b[0m\u001b[0mN\u001b[0m\u001b[1;33m,\u001b[0m\u001b[0mmax_rnd\u001b[0m\u001b[1;33m,\u001b[0m\u001b[1;36m2\u001b[0m\u001b[1;33m,\u001b[0m\u001b[0mw_i\u001b[0m\u001b[1;33m,\u001b[0m\u001b[0mXtrain\u001b[0m\u001b[1;33m)\u001b[0m\u001b[1;33m\u001b[0m\u001b[1;33m\u001b[0m\u001b[0m\n\u001b[0m\u001b[0;32m     19\u001b[0m     \u001b[1;32mif\u001b[0m \u001b[0mrnd\u001b[0m \u001b[1;33m>\u001b[0m\u001b[1;36m1\u001b[0m\u001b[1;33m:\u001b[0m\u001b[1;33m\u001b[0m\u001b[1;33m\u001b[0m\u001b[0m\n\u001b[0;32m     20\u001b[0m         \u001b[0merror_rate\u001b[0m \u001b[1;33m=\u001b[0m \u001b[1;36m0.2\u001b[0m\u001b[1;33m\u001b[0m\u001b[1;33m\u001b[0m\u001b[0m\n",
      "\u001b[1;32m<ipython-input-28-3709a7c8f0d5>\u001b[0m in \u001b[0;36madaboostAlgorithm\u001b[1;34m(N, max_rnd, rnd, old_wi, Xtrain, best_thresh)\u001b[0m\n\u001b[0;32m     21\u001b[0m         \u001b[0mw2\u001b[0m \u001b[1;33m=\u001b[0m \u001b[0mnp\u001b[0m\u001b[1;33m.\u001b[0m\u001b[0marray\u001b[0m\u001b[1;33m(\u001b[0m\u001b[1;33m[\u001b[0m\u001b[0mold_wi\u001b[0m\u001b[1;33m[\u001b[0m\u001b[1;36m0\u001b[0m\u001b[1;33m]\u001b[0m\u001b[1;33m*\u001b[0m\u001b[1;36m0.5\u001b[0m\u001b[1;33m/\u001b[0m\u001b[1;33m(\u001b[0m\u001b[1;36m1\u001b[0m\u001b[1;33m-\u001b[0m\u001b[0merror_rate\u001b[0m\u001b[1;33m)\u001b[0m\u001b[1;33m,\u001b[0m\u001b[0mold_wi\u001b[0m\u001b[1;33m[\u001b[0m\u001b[1;36m1\u001b[0m\u001b[1;33m]\u001b[0m\u001b[1;33m*\u001b[0m\u001b[1;36m0.5\u001b[0m\u001b[1;33m/\u001b[0m\u001b[1;33m(\u001b[0m\u001b[1;36m1\u001b[0m\u001b[1;33m-\u001b[0m\u001b[0merror_rate\u001b[0m\u001b[1;33m)\u001b[0m\u001b[1;33m,\u001b[0m\u001b[0mold_wi\u001b[0m\u001b[1;33m[\u001b[0m\u001b[1;36m2\u001b[0m\u001b[1;33m]\u001b[0m\u001b[1;33m*\u001b[0m\u001b[1;36m0.5\u001b[0m\u001b[1;33m/\u001b[0m\u001b[1;33m(\u001b[0m\u001b[0merror_rate\u001b[0m\u001b[1;33m)\u001b[0m\u001b[1;33m,\u001b[0m\u001b[0mold_wi\u001b[0m\u001b[1;33m[\u001b[0m\u001b[1;36m3\u001b[0m\u001b[1;33m]\u001b[0m\u001b[1;33m*\u001b[0m\u001b[1;36m0.5\u001b[0m\u001b[1;33m/\u001b[0m\u001b[1;33m(\u001b[0m\u001b[1;36m1\u001b[0m\u001b[1;33m-\u001b[0m\u001b[0merror_rate\u001b[0m\u001b[1;33m)\u001b[0m\u001b[1;33m,\u001b[0m\u001b[0mold_wi\u001b[0m\u001b[1;33m[\u001b[0m\u001b[1;36m4\u001b[0m\u001b[1;33m]\u001b[0m\u001b[1;33m*\u001b[0m\u001b[1;36m0.5\u001b[0m\u001b[1;33m/\u001b[0m\u001b[1;33m(\u001b[0m\u001b[1;36m1\u001b[0m\u001b[1;33m-\u001b[0m\u001b[0merror_rate\u001b[0m\u001b[1;33m)\u001b[0m\u001b[1;33m]\u001b[0m\u001b[1;33m)\u001b[0m\u001b[1;33m\u001b[0m\u001b[1;33m\u001b[0m\u001b[0m\n\u001b[0;32m     22\u001b[0m         \u001b[0merrors\u001b[0m \u001b[1;33m=\u001b[0m \u001b[0mnp\u001b[0m\u001b[1;33m.\u001b[0m\u001b[0mones\u001b[0m\u001b[1;33m(\u001b[0m\u001b[1;33m(\u001b[0m\u001b[0mN\u001b[0m\u001b[1;33m,\u001b[0m\u001b[1;36m1\u001b[0m\u001b[1;33m)\u001b[0m\u001b[1;33m)\u001b[0m\u001b[1;33m\u001b[0m\u001b[1;33m\u001b[0m\u001b[0m\n\u001b[1;32m---> 23\u001b[1;33m         \u001b[1;32mfor\u001b[0m \u001b[0mi\u001b[0m \u001b[1;32min\u001b[0m \u001b[0mthreshVal\u001b[0m\u001b[1;33m:\u001b[0m\u001b[1;33m\u001b[0m\u001b[1;33m\u001b[0m\u001b[0m\n\u001b[0m\u001b[0;32m     24\u001b[0m             \u001b[0mymodel\u001b[0m \u001b[1;33m=\u001b[0m \u001b[0mstumpClassify\u001b[0m\u001b[1;33m(\u001b[0m\u001b[0mdataMatrix\u001b[0m\u001b[1;33m=\u001b[0m\u001b[0mXtrain\u001b[0m\u001b[1;33m,\u001b[0m\u001b[0mdimen\u001b[0m\u001b[1;33m=\u001b[0m\u001b[1;36m0\u001b[0m\u001b[1;33m,\u001b[0m\u001b[0mthreshVal\u001b[0m\u001b[1;33m=\u001b[0m\u001b[0mi\u001b[0m\u001b[1;33m,\u001b[0m \u001b[0mthreshIneq\u001b[0m\u001b[1;33m=\u001b[0m\u001b[0mthreshIneq\u001b[0m\u001b[1;33m)\u001b[0m\u001b[1;33m\u001b[0m\u001b[1;33m\u001b[0m\u001b[0m\n\u001b[0;32m     25\u001b[0m             \u001b[0merrors\u001b[0m\u001b[1;33m[\u001b[0m\u001b[0mymodel\u001b[0m\u001b[1;33m==\u001b[0m\u001b[0mytrain\u001b[0m\u001b[1;33m]\u001b[0m\u001b[1;33m=\u001b[0m\u001b[1;36m0\u001b[0m\u001b[1;33m\u001b[0m\u001b[1;33m\u001b[0m\u001b[0m\n",
      "\u001b[1;31mUnboundLocalError\u001b[0m: local variable 'threshVal' referenced before assignment"
     ]
    }
   ],
   "source": [
    "adaboostAlgorithm(N=5,max_rnd=1,rnd=1,old_wi=5,Xtrain=Xtrain)"
   ]
  },
  {
   "cell_type": "code",
   "execution_count": 8,
   "metadata": {},
   "outputs": [],
   "source": []
  }
 ],
 "metadata": {
  "kernelspec": {
   "display_name": "Python 3",
   "language": "python",
   "name": "python3"
  },
  "language_info": {
   "codemirror_mode": {
    "name": "ipython",
    "version": 3
   },
   "file_extension": ".py",
   "mimetype": "text/x-python",
   "name": "python",
   "nbconvert_exporter": "python",
   "pygments_lexer": "ipython3",
   "version": "3.8.5"
  }
 },
 "nbformat": 4,
 "nbformat_minor": 4
}
